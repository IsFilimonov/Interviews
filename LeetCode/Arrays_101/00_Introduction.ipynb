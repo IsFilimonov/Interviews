{
 "cells": [
  {
   "cell_type": "markdown",
   "metadata": {},
   "source": [
    "## Max Consecutive Ones\n",
    "\n",
    "Given a binary array `nums`, return the maximum number of consecutive 1's in the array.\n",
    "\n",
    "Constraints:  \n",
    "- 1 <= nums.length <= 105  \n",
    "- nums[i] is either 0 or 1.\n",
    "\n",
    "### Example 1\n",
    "Input: nums = [1,1,0,1,1,1]  \n",
    "Output: 3\n",
    "\n",
    "### Example 2\n",
    "Input: nums = [1,0,1,1,0,1]  \n",
    "Output: 2\n",
    "\n"
   ]
  },
  {
   "cell_type": "code",
   "execution_count": 1,
   "metadata": {},
   "outputs": [
    {
     "name": "stdout",
     "output_type": "stream",
     "text": [
      "Well done!\n"
     ]
    }
   ],
   "source": [
    "from typing import List\n",
    "\n",
    "\n",
    "class Solution:\n",
    "    def findMaxConsecutiveOnes(self, nums: List[int]) -> int:\n",
    "        best = 0\n",
    "        sequence = 0\n",
    "        \n",
    "        for el in nums:\n",
    "            if el == 1:\n",
    "                sequence += 1\n",
    "            if el == 0:\n",
    "                best = max(best, sequence)\n",
    "                sequence = 0\n",
    "\n",
    "        # If the last element is 1 then we need to take max of both\n",
    "        return(max(best, sequence))\n",
    "\n",
    "\n",
    "if __name__ == \"__main__\":\n",
    "    s = Solution()\n",
    "\n",
    "    tests = (\n",
    "        ([1, 1, 0, 1, 1, 1], 3),\n",
    "        ([1, 0, 1, 1, 0, 1], 2),\n",
    "        ([0], 0),\n",
    "        ([0,0,0], 0),\n",
    "        ([1], 1),\n",
    "        ([0,0,1], 1),\n",
    "    )\n",
    "\n",
    "    for test in tests:\n",
    "        exec(\"assert s.findMaxConsecutiveOnes(test[0]) == test[1]\")\n",
    "\n",
    "    # print(s.findMaxConsecutiveOnes(tests[0][0]))\n",
    "\n",
    "    print(\"Well done!\")\n"
   ]
  },
  {
   "cell_type": "markdown",
   "metadata": {},
   "source": [
    "## Find Numbers with Even Number of Digits\n",
    "\n",
    "Given an array `nums` of integers, return how many of them contain an even number of digits.\n",
    "\n",
    "Constraints:  \n",
    "\n",
    "- 1 <= nums.length <= 500\n",
    "- 1 <= nums[i] <= 105\n",
    "\n",
    "### Example 1\n",
    "Input: nums = [12,345,2,6,7896]  \n",
    "Output: 2  \n",
    "\n",
    "Explanation:   \n",
    "12 contains 2 digits (even number of digits).  \n",
    "345 contains 3 digits (odd number of digits).  \n",
    "2 contains 1 digit (odd number of digits).  \n",
    "6 contains 1 digit (odd number of digits).  \n",
    "7896 contains 4 digits (even number of digits).  \n",
    "Therefore only 12 and 7896 contain an even number of digits. \n",
    "\n",
    "\n",
    "### Example 2\n",
    "Input: nums = [555,901,482,1771]  \n",
    "Output: 1  \n",
    "\n",
    "Explanation:  \n",
    "Only 1771 contains an even number of digits.\n",
    "\n",
    "\n",
    "\n"
   ]
  },
  {
   "cell_type": "code",
   "execution_count": 2,
   "metadata": {},
   "outputs": [
    {
     "name": "stdout",
     "output_type": "stream",
     "text": [
      "Well done!\n"
     ]
    }
   ],
   "source": [
    "class Solution:\n",
    "    def findNumbers(self, nums: List[int]) -> int:\n",
    "        return sum(1 for el in nums if len(str(el)) % 2 == 0)\n",
    "\n",
    "\n",
    "if __name__ == \"__main__\":\n",
    "    s = Solution()\n",
    "\n",
    "    tests = (\n",
    "        ([12, 345, 2, 6, 7896], 2),\n",
    "        ([555, 901, 482, 1771], 1),\n",
    "\n",
    "    )\n",
    "\n",
    "    for test in tests:\n",
    "        exec(\"assert s.findNumbers(test[0]) == test[1]\")\n",
    "\n",
    "    # print(s.findNumbers(tests[0][0]))\n",
    "\n",
    "    print(\"Well done!\")\n"
   ]
  },
  {
   "cell_type": "markdown",
   "metadata": {},
   "source": [
    "## Squares of a Sorted Array\n",
    "\n",
    "Given an integer array `nums` sorted in **non-decreasing** order, return an array of **the squares of each number** sorted in non-decreasing order.\n",
    "\n",
    "Constraints:\n",
    "\n",
    "- 1 <= nums.length <= 104\n",
    "- -104 <= nums[i] <= 104\n",
    "- nums is sorted in non-decreasing order.\n",
    "\n",
    "Follow up: Squaring each element and sorting the new array is very trivial, could you find an O(n) solution using a different approach?\n",
    "\n",
    "### Example 1\n",
    "\n",
    "Input: nums = [-4,-1,0,3,10]  \n",
    "Output: [0,1,9,16,100]  \n",
    "Explanation: After squaring, the array becomes [16,1,0,9,100].  \n",
    "After sorting, it becomes [0,1,9,16,100].  \n",
    "\n",
    "### Example 2 \n",
    "\n",
    "Input: nums = [-7,-3,2,3,11]  \n",
    "Output: [4,9,9,49,121]  "
   ]
  },
  {
   "cell_type": "code",
   "execution_count": 3,
   "metadata": {},
   "outputs": [
    {
     "name": "stdout",
     "output_type": "stream",
     "text": [
      "Well done!\n"
     ]
    }
   ],
   "source": [
    "class Solution:\n",
    "    def sortedSquares(self, nums: List[int]) -> List[int]:\n",
    "        return sorted([el ** 2 for el in nums])\n",
    "\n",
    "\n",
    "if __name__ == \"__main__\":\n",
    "    s = Solution()\n",
    "\n",
    "    tests = (\n",
    "        ([-4, -1, 0, 3, 10], [0, 1, 9, 16, 100]),\n",
    "        ([-7, -3, 2, 3, 11], [4, 9, 9, 49, 121]),\n",
    "\n",
    "    )\n",
    "\n",
    "    for test in tests:\n",
    "        exec(\"assert s.sortedSquares(test[0]) == test[1]\")\n",
    "\n",
    "    # print(s.sortedSquares(tests[0][0]))\n",
    "\n",
    "    print(\"Well done!\")\n"
   ]
  },
  {
   "cell_type": "code",
   "execution_count": null,
   "metadata": {},
   "outputs": [],
   "source": []
  }
 ],
 "metadata": {
  "kernelspec": {
   "display_name": "Python 3.10.4 64-bit",
   "language": "python",
   "name": "python3"
  },
  "language_info": {
   "codemirror_mode": {
    "name": "ipython",
    "version": 3
   },
   "file_extension": ".py",
   "mimetype": "text/x-python",
   "name": "python",
   "nbconvert_exporter": "python",
   "pygments_lexer": "ipython3",
   "version": "3.10.4"
  },
  "orig_nbformat": 4,
  "vscode": {
   "interpreter": {
    "hash": "aee8b7b246df8f9039afb4144a1f6fd8d2ca17a180786b69acc140d282b71a49"
   }
  }
 },
 "nbformat": 4,
 "nbformat_minor": 2
}
