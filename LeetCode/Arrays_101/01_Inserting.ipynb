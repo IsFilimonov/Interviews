{
 "cells": [
  {
   "cell_type": "markdown",
   "metadata": {},
   "source": [
    "## Duplicate Zeros\n",
    "\n",
    "Given a fixed-length integer array `arr`, duplicate each occurrence of zero, shifting the remaining elements to the right.\n",
    "\n",
    "**Note** that elements beyond the length of the original array are not written. Do the above modifications to the input array in place and do not return anything.\n",
    "\n",
    "Constraints:\n",
    "- 1 <= arr.length <= 104\n",
    "- 0 <= arr[i] <= 9\n",
    "\n",
    "### Example 1\n",
    "\n",
    "Input: arr = [1,0,2,3,0,4,5,0]  \n",
    "Output: [1,0,0,2,3,0,0,4]  \n",
    "Explanation: After calling your function, the input array is modified to: [1,0,0,2,3,0,0,4]  \n",
    "\n",
    "### Example 2\n",
    "\n",
    "Input: arr = [1,2,3]  \n",
    "Output: [1,2,3]  \n",
    "Explanation: After calling your function, the input array is modified to: [1,2,3]  "
   ]
  },
  {
   "cell_type": "code",
   "execution_count": 1,
   "metadata": {},
   "outputs": [
    {
     "name": "stdout",
     "output_type": "stream",
     "text": [
      "Well done!\n"
     ]
    }
   ],
   "source": [
    "from typing import List\n",
    "\n",
    "\n",
    "class Solution:\n",
    "    def duplicateZeros(self, arr: List[int]) -> None:\n",
    "        \"\"\"\n",
    "        Do not return anything, modify arr in-place instead.\n",
    "        \"\"\"\n",
    "        i = 0\n",
    "\n",
    "        while i < len(arr):\n",
    "            if arr[i] == 0:\n",
    "                arr.insert(i+1, 0)\n",
    "                i += 1\n",
    "                arr.pop()\n",
    "\n",
    "            i += 1    \n",
    "\n",
    "        return arr\n",
    "\n",
    "if __name__ == \"__main__\":\n",
    "    s = Solution()\n",
    "\n",
    "    tests = (\n",
    "        ([1, 0, 2, 3, 0, 4, 5, 0], [1, 0, 0, 2, 3, 0, 0, 4]),\n",
    "        ([1, 2, 3], [1, 2, 3]),\n",
    "        ([0], [0]),\n",
    "        ([0, 0], [0, 0]),\n",
    "    )\n",
    "\n",
    "    for test in tests:\n",
    "        exec(\"assert s.duplicateZeros(test[0]) == test[1]\")\n",
    "\n",
    "    # print(s.duplicateZeros(tests[0][0]))\n",
    "\n",
    "    print(\"Well done!\")\n"
   ]
  },
  {
   "cell_type": "markdown",
   "metadata": {},
   "source": [
    "## Merge Sorted Array\n",
    "\n",
    "You are given two integer arrays `nums1` and `nums2`, sorted in **non-decreasing** order, and two integers **m** and **n**, representing the number of elements in `nums1` and `nums2` respectively.\n",
    "\n",
    "**Merge** `nums1` and `nums2` into a single array sorted in **non-decreasing order**.\n",
    "\n",
    "The final sorted array should not be returned by the function, but instead be stored inside the array `nums1`. To accommodate this, `nums1` has a length of `m + n`, where the first `m` elements denote the elements that should be merged, and the last `n` elements are set to `0` and should be ignored. `nums2` has a length of `n`.\n",
    "\n",
    "Constraints:\n",
    "\n",
    "- nums1.length == m + n\n",
    "- nums2.length == n\n",
    "- 0 <= m, n <= 200\n",
    "- 1 <= m + n <= 200\n",
    "- -109 <= nums1[i], nums2[j] <= 109\n",
    " \n",
    "\n",
    "Follow up: Can you come up with an algorithm that runs in `O(m + n)` time?\n",
    "\n",
    "### Example 1:\n",
    "Input: nums1 = [1,2,3,0,0,0], m = 3, nums2 = [2,5,6], n = 3  \n",
    "Output: [1,2,2,3,5,6]  \n",
    "Explanation: The arrays we are merging are [1,2,3] and [2,5,6].  \n",
    "The result of the merge is [1,2,2,3,5,6] with the underlined elements coming from nums1.  \n",
    "\n",
    "\n",
    "### Example 2:\n",
    "Input: nums1 = [1], m = 1, nums2 = [], n = 0  \n",
    "Output: [1]  \n",
    "Explanation: The arrays we are merging are [1] and [].  \n",
    "The result of the merge is [1].  \n",
    "\n",
    "\n",
    "### Example 3:\n",
    "Input: nums1 = [0], m = 0, nums2 = [1], n = 1  \n",
    "Output: [1]  \n",
    "Explanation: The arrays we are merging are [] and [1].  \n",
    "The result of the merge is [1].  \n",
    "Note that because m = 0, there are no elements in nums1. The 0 is only there to ensure the merge result can fit in nums1.  \n",
    "\n"
   ]
  },
  {
   "cell_type": "code",
   "execution_count": 2,
   "metadata": {},
   "outputs": [
    {
     "name": "stdout",
     "output_type": "stream",
     "text": [
      "[1, 2, 2, 3, 5, 6]\n",
      "[1]\n",
      "[1]\n",
      "Well done!\n"
     ]
    }
   ],
   "source": [
    "class Solution:\n",
    "    def merge(self, nums1: List[int], m: int, nums2: List[int], n: int) -> None:\n",
    "        \"\"\"\n",
    "        Do not return anything, modify nums1 in-place instead.\n",
    "        \"\"\"\n",
    "        last = m + n - 1\n",
    "\n",
    "        while m > 0 and n > 0:\n",
    "            if nums1[m-1] > nums2[n-1]:\n",
    "                nums1[last] = nums1[m-1]\n",
    "                m -= 1\n",
    "            else:\n",
    "                nums1[last] = nums2[n-1]\n",
    "                n -= 1\n",
    "            last -= 1\n",
    "        \n",
    "        while n > 0:\n",
    "            nums1[last] = nums2[n-1]\n",
    "            n, last = n-1, last-1\n",
    "\n",
    "        print(nums1)\n",
    "\n",
    "\n",
    "if __name__ == \"__main__\":\n",
    "    s = Solution()\n",
    "\n",
    "    tests = (\n",
    "        (([1, 2, 3, 0, 0, 0], 3, [2, 5, 6], 3), None),  # [1, 2, 2, 3, 5, 6]\n",
    "        (([1], 1, [], 0), None),  # [1]\n",
    "        (([0], 0, [1], 1), None),  # [1]\n",
    "    )\n",
    "\n",
    "    for test in tests:\n",
    "        exec(\"assert s.merge(*test[0]) == test[1]\")\n",
    "\n",
    "    # print(s.merge(tests[0][0]))\n",
    "\n",
    "    print(\"Well done!\")\n"
   ]
  },
  {
   "cell_type": "code",
   "execution_count": null,
   "metadata": {},
   "outputs": [],
   "source": []
  }
 ],
 "metadata": {
  "kernelspec": {
   "display_name": "Python 3.10.4 64-bit",
   "language": "python",
   "name": "python3"
  },
  "language_info": {
   "codemirror_mode": {
    "name": "ipython",
    "version": 3
   },
   "file_extension": ".py",
   "mimetype": "text/x-python",
   "name": "python",
   "nbconvert_exporter": "python",
   "pygments_lexer": "ipython3",
   "version": "3.10.4"
  },
  "orig_nbformat": 4,
  "vscode": {
   "interpreter": {
    "hash": "aee8b7b246df8f9039afb4144a1f6fd8d2ca17a180786b69acc140d282b71a49"
   }
  }
 },
 "nbformat": 4,
 "nbformat_minor": 2
}
