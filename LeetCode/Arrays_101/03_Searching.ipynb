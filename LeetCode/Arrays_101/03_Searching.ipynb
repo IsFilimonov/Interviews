{
 "cells": [
  {
   "cell_type": "markdown",
   "metadata": {},
   "source": [
    "## Notes\n",
    "\n",
    "Linear Search: \n",
    "- sorted array\n",
    "- each step by step\n",
    "- For once search\n",
    "- Time O(N)\n",
    "\n",
    "Binary Search:\n",
    "- sorted array\n",
    "- half and left or right\n",
    "- For multiple searches\n",
    "- Time O(log(N))"
   ]
  },
  {
   "cell_type": "markdown",
   "metadata": {},
   "source": [
    "## Check If N and Its Double Exist\n",
    "\n",
    "Given an array `arr` of integers, check if there exist two indices i and j such that :\n",
    "\n",
    "- i != j\n",
    "- 0 <= i, j < arr.length\n",
    "- arr[i] == 2 * arr[j]\n",
    "\n",
    "**Constraints**:\n",
    "\n",
    "- 2 <= arr.length <= 500\n",
    "- -103 <= arr[i] <= 103\n",
    "\n",
    "### Example 1\n",
    "\n",
    "```\n",
    "Input: arr = [10,2,5,3]\n",
    "Output: true\n",
    "Explanation: For i = 0 and j = 2, arr[i] == 10 == 2 * 5 == 2 * arr[j]\n",
    "```\n",
    "\n",
    "### Example 2\n",
    "\n",
    "```\n",
    "Input: arr = [3,1,7,11]\n",
    "Output: false\n",
    "Explanation: There is no i and j that satisfy the conditions.\n",
    "```"
   ]
  },
  {
   "cell_type": "code",
   "execution_count": 1,
   "metadata": {},
   "outputs": [
    {
     "name": "stdout",
     "output_type": "stream",
     "text": [
      "Well done!\n"
     ]
    }
   ],
   "source": [
    "from typing import List\n",
    "\n",
    "\n",
    "class Solution:\n",
    "    def checkIfExist(self, arr: List[int]) -> bool:\n",
    "        for i in range(0, len(arr)):\n",
    "            for j in range(0, len(arr)):\n",
    "                if i == j:\n",
    "                    continue\n",
    "                if arr[i] == 2 * arr[j]:\n",
    "                    return True\n",
    "\n",
    "        return False\n",
    "\n",
    "\n",
    "if __name__ == \"__main__\":\n",
    "    s = Solution()\n",
    "\n",
    "    tests = (\n",
    "        ([10, 2, 5, 3], True), \n",
    "        ([3, 1, 7, 11], False),\n",
    "        ([0, 0], True),\n",
    "    )\n",
    "\n",
    "    for test in tests:\n",
    "        exec(\"assert s.checkIfExist(test[0]) == test[1]\")\n",
    "\n",
    "    # print(s.checkIfExist(tests[0][0]))\n",
    "\n",
    "    print(\"Well done!\")\n",
    "\n",
    "\n",
    "\n"
   ]
  },
  {
   "cell_type": "markdown",
   "metadata": {},
   "source": [
    "## Valid Mountain Array\n",
    "\n",
    "Given an array of integers `arr`, return `true` if and only if it is a valid mountain array.\n",
    "\n",
    "Recall that `arr` is a mountain array if and only if:\n",
    "\n",
    "arr.length >= 3\n",
    "There exists some i with 0 < i < arr.length - 1 such that:\n",
    "arr[0] < arr[1] < ... < arr[i - 1] < arr[i]\n",
    "arr[i] > arr[i + 1] > ... > arr[arr.length - 1]\n",
    "\n",
    "**Constraints**:\n",
    "\n",
    "- 1 <= arr.length <= 104\n",
    "- 0 <= arr[i] <= 104\n",
    "\n",
    "### Example 1\n",
    "\n",
    "```\n",
    "Input: arr = [2,1]\n",
    "Output: false\n",
    "```\n",
    "\n",
    "### Example 2\n",
    "\n",
    "```\n",
    "Input: arr = [3,5,5]\n",
    "Output: false\n",
    "```\n",
    "\n",
    "### Example 3\n",
    "\n",
    "```\n",
    "Input: arr = [0,3,2,1]\n",
    "Output: true\n",
    "```"
   ]
  },
  {
   "cell_type": "code",
   "execution_count": 2,
   "metadata": {},
   "outputs": [
    {
     "name": "stdout",
     "output_type": "stream",
     "text": [
      "Well done!\n"
     ]
    }
   ],
   "source": [
    "class Solution:\n",
    "    def validMountainArray(self, arr: List[int]) -> bool:\n",
    "        end = len(arr) - 1\n",
    "        if end < 2:\n",
    "            return False\n",
    "        start = 0\n",
    "\n",
    "        while start < end:\n",
    "            if arr[start] > arr[start+1]:\n",
    "                break\n",
    "            elif arr[start] == arr[start+1]:\n",
    "                return False\n",
    "            start += 1\n",
    "        \n",
    "        while end > start:\n",
    "            if arr[end-1] < arr[end]:\n",
    "                break\n",
    "            elif arr[end-1] == arr[end]:\n",
    "                return False\n",
    "            end -= 1\n",
    "    \n",
    "        if start == len(arr)-1:\n",
    "            # right mountain miss\n",
    "            return False\n",
    "        elif start == 0:\n",
    "            # left mountain miss\n",
    "            return False\n",
    "        elif end - start == 0:\n",
    "            return True        \n",
    "        elif end - start != 1:\n",
    "            # mountains\n",
    "            return False\n",
    "        else:\n",
    "            return True\n",
    "\n",
    "\n",
    "if __name__ == \"__main__\":\n",
    "    s = Solution()\n",
    "\n",
    "    tests = (\n",
    "        ([2, 1], False),\n",
    "        ([1, 3, 2], True),\n",
    "        ([3, 5, 5], False),\n",
    "        ([0, 3, 2, 1], True),\n",
    "        ([0, 2, 3, 4, 5, 2, 1, 0], True),\n",
    "        ([0, 2, 3, 3, 5, 2, 1, 0], False),  # because straight line by 3 3\n",
    "        ([0, 1, 2, 3], False),\n",
    "        ([0, 1, 2, 1, 2], False),\n",
    "        ([3,2,1,0], False),\n",
    "    )\n",
    "\n",
    "    for test in tests:\n",
    "        exec(\"assert s.validMountainArray(test[0]) == test[1]\")\n",
    "\n",
    "    print(\"Well done!\")\n"
   ]
  }
 ],
 "metadata": {
  "kernelspec": {
   "display_name": "Python 3.10.4 64-bit",
   "language": "python",
   "name": "python3"
  },
  "language_info": {
   "codemirror_mode": {
    "name": "ipython",
    "version": 3
   },
   "file_extension": ".py",
   "mimetype": "text/x-python",
   "name": "python",
   "nbconvert_exporter": "python",
   "pygments_lexer": "ipython3",
   "version": "3.10.4"
  },
  "orig_nbformat": 4,
  "vscode": {
   "interpreter": {
    "hash": "aee8b7b246df8f9039afb4144a1f6fd8d2ca17a180786b69acc140d282b71a49"
   }
  }
 },
 "nbformat": 4,
 "nbformat_minor": 2
}
